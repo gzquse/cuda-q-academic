{
 "cells": [
  {
   "cell_type": "code",
   "execution_count": 1,
   "id": "5fbb14e4",
   "metadata": {},
   "outputs": [
    {
     "name": "stdout",
     "output_type": "stream",
     "text": [
      "/bin/bash: /pscratch/sd/g/gzquse/cudaq/lib/libtinfo.so.6: no version information available (required by /lib64/libreadline.so.7)\n"
     ]
    }
   ],
   "source": [
    "!pip install contfrac==1.0.0 -q"
   ]
  },
  {
   "cell_type": "code",
   "execution_count": 2,
   "id": "e4a57273",
   "metadata": {},
   "outputs": [
    {
     "name": "stderr",
     "output_type": "stream",
     "text": [
      "sh: /pscratch/sd/g/gzquse/cudaq/lib/libtinfo.so.6: no version information available (required by /lib64/libreadline.so.7)\n",
      "sh: /pscratch/sd/g/gzquse/cudaq/lib/libtinfo.so.6: no version information available (required by /lib64/libreadline.so.7)\n"
     ]
    }
   ],
   "source": [
    "from math import gcd, log2, ceil\n",
    "import numpy as np\n",
    "import random\n",
    "import cudaq\n",
    "from cudaq import *\n",
    "import fractions\n",
    "import matplotlib.pyplot as plt\n",
    "import contfrac"
   ]
  },
  {
   "cell_type": "code",
   "execution_count": 3,
   "id": "774e8a14",
   "metadata": {},
   "outputs": [],
   "source": [
    "def shors_algorithm(N, initial, quantum):\n",
    "    \"\"\" Factor N using Shor's algorithm with initial starting value and choice of\n",
    "    using either classical or quantum approach for the period finding step\n",
    "    Parameters\n",
    "    ----------\n",
    "    N: int\n",
    "        Integer to be factored (assumed to be non-prime and >1)\n",
    "    initial: int\n",
    "        Initial choice of the random integer between 2 and N-1\n",
    "    quantum: boolean\n",
    "        True if we will call the quantum order-finding algorithm, and false if we call the classical one for step 3.\n",
    "\n",
    "    Returns\n",
    "    -------\n",
    "    a1, a2: int\n",
    "        Non-trivial factors of N\n",
    "    \"\"\"\n",
    "\n",
    "    # 0. Check to see if N is even.\n",
    "    if N % 2 == 0:\n",
    "        divisor1 = 2\n",
    "        divisor2 = N // 2\n",
    "        print(\"Found factors:\", divisor1, divisor2)\n",
    "        return (divisor1, divisor2)\n",
    "\n",
    "    attempts = [initial]\n",
    "    while (True):\n",
    "        # 1. Select a random integer between 2 and N-1\n",
    "        if len(attempts) == 1:\n",
    "            a = initial\n",
    "        else:\n",
    "            a = random.choice(\n",
    "                [n for n in range(N - 1) if n not in attempts and n != 1])\n",
    "\n",
    "        # 2. See if the integer selected in step 1 happens to factor N\n",
    "        print(\"Trying a =\", a)\n",
    "        divisor1 = gcd(a, N)\n",
    "        if divisor1 != 1:\n",
    "            divisor2 = N // divisor1\n",
    "            print(\"Found factors of N={} by chance: {} and {}\".format(\n",
    "                N, divisor1, divisor2))\n",
    "            return (divisor1, divisor2)\n",
    "\n",
    "        # 3. Find the order of a mod N (i.e., r, where a^r = 1 (mod N))\n",
    "        if quantum == True:\n",
    "            r = find_order_quantum(a, N)\n",
    "        else:\n",
    "            r = find_order_classical(a, N)\n",
    "        print(\"The order of a = {} is {}\".format(a, r))\n",
    "\n",
    "        # 4. If the order of a is found and it is\n",
    "        # * even and\n",
    "        # * not a^(r/2) = -1 (mod N),\n",
    "        # then test a^(r/2)-1 and a^(r/2)+1 to see if they share factors with N.\n",
    "        # We also want to rule out the case of finding the trivial factors: 1 and N.\n",
    "        divisor1, divisor2 = test_order(a, r, N)\n",
    "        if (divisor1 != 0):  # test_order will return a 0 if no factor is found\n",
    "            print(\"Found factors of N = {}: {} and {}\".format(\n",
    "                N, divisor1, divisor2))\n",
    "            return divisor1, divisor2\n",
    "\n",
    "        # 5. Repeat\n",
    "        print(\"retrying...\")\n",
    "        attempts.append(a)"
   ]
  },
  {
   "cell_type": "code",
   "execution_count": 4,
   "id": "3e7aa563",
   "metadata": {},
   "outputs": [],
   "source": [
    "def test_order(a, r, N):\n",
    "    \"\"\"Checks whether or not a^(r/2)+1 or a^(r/2)-1 share a non-trivial common factor with N\n",
    "    Parameters\n",
    "    ----------\n",
    "    a: int\n",
    "    r: int\n",
    "    N: int\n",
    "\n",
    "    Returns\n",
    "    -------\n",
    "    int, int factors of N, if found; 0,0 otherwise\n",
    "    \"\"\"\n",
    "\n",
    "    if r != None and (r % 2 == 0) and a**r % N == 1:\n",
    "        if (a**(int(r / 2))) % N != -1:\n",
    "            possible_factors = [gcd(r - 1, N), gcd(r + 1, N)]\n",
    "            for test_factor in possible_factors:\n",
    "                if test_factor != 1 and test_factor != N:\n",
    "                    return test_factor, N // test_factor\n",
    "    # period did not produce a factor\n",
    "    else:\n",
    "        print('No non-trivial factor found')\n",
    "        return 0, 0"
   ]
  },
  {
   "cell_type": "code",
   "execution_count": 5,
   "id": "23331884",
   "metadata": {},
   "outputs": [],
   "source": [
    "def find_order_classical(a, N):\n",
    "    \"\"\"A naive classical method to find the order r of a (mod N).\n",
    "    Parameters\n",
    "    ----------\n",
    "    a: int\n",
    "        an integer in the interval [2,N-1]\n",
    "    N: int\n",
    "\n",
    "    Returns\n",
    "    -------\n",
    "    r: int\n",
    "        Period of a^x (mod N)\n",
    "    \"\"\"\n",
    "    assert 1 < a and a < N\n",
    "    r = 1\n",
    "    y = a\n",
    "    while y != 1:\n",
    "        y = y * a % N\n",
    "        r += 1\n",
    "    return r"
   ]
  },
  {
   "cell_type": "code",
   "execution_count": 6,
   "id": "04a5da3a",
   "metadata": {},
   "outputs": [
    {
     "name": "stdout",
     "output_type": "stream",
     "text": [
      "Trying a = 42\n",
      "Found factors of N=123 by chance: 3 and 41\n"
     ]
    },
    {
     "data": {
      "text/plain": [
       "(3, 41)"
      ]
     },
     "execution_count": 6,
     "metadata": {},
     "output_type": "execute_result"
    }
   ],
   "source": [
    "my_integer = 123  #edit this value to try out a few examples\n",
    "# Edit the value in the line below to try out different initial guesses for a.\n",
    "# What happens when you choose a = 42 for the integer 123?\n",
    "# What happens when you choose a = 100 for the integer 123?\n",
    "initial_value_to_start = 42  # edit this value; it should be less than my_integer\n",
    "\n",
    "shors_algorithm(my_integer, initial_value_to_start, False)"
   ]
  },
  {
   "cell_type": "code",
   "execution_count": 7,
   "id": "3d3140b0",
   "metadata": {},
   "outputs": [],
   "source": [
    "# Define kernels for the quantum Fourier transform and the inverse quantum Fourier transform\n",
    "@cudaq.kernel\n",
    "def quantum_fourier_transform(qubits: cudaq.qview):\n",
    "    qubit_count = len(qubits)\n",
    "    # Apply Hadamard gates and controlled rotation gates.\n",
    "    for i in range(qubit_count):\n",
    "        h(qubits[i])\n",
    "        for j in range(i + 1, qubit_count):\n",
    "            angle = (2 * np.pi) / (2**(j - i + 1))\n",
    "            cr1(angle, [qubits[j]], qubits[i])\n",
    "\n",
    "\n",
    "@cudaq.kernel\n",
    "def inverse_qft(qubits: cudaq.qview):\n",
    "    cudaq.adjoint(quantum_fourier_transform, qubits)"
   ]
  },
  {
   "cell_type": "code",
   "execution_count": 8,
   "id": "b62b5285",
   "metadata": {},
   "outputs": [],
   "source": [
    "@cudaq.kernel\n",
    "def modular_mult_5_21(work: cudaq.qview):\n",
    "    \"\"\"\"Kernel for multiplying by 5 mod 21\n",
    "    based off of the circuit diagram in\n",
    "    https://physlab.org/wp-content/uploads/2023/05/Shor_s_Algorithm_23100113_Fin.pdf\n",
    "    Modifications were made to change the ordering of the qubits\"\"\"\n",
    "    x(work[0])\n",
    "    x(work[2])\n",
    "    x(work[4])\n",
    "\n",
    "    swap(work[0], work[4])\n",
    "    swap(work[0], work[2])\n",
    "\n",
    "\n",
    "@cudaq.kernel\n",
    "def modular_exp_5_21(exponent: cudaq.qview, work: cudaq.qview,\n",
    "                     control_size: int):\n",
    "    \"\"\" Controlled modular exponentiation kernel used in Shor's algorithm\n",
    "    |x> U^x |y> = |x> |(5^x)y mod 21>\n",
    "    \"\"\"\n",
    "    x(work[0])\n",
    "    for exp in range(control_size):\n",
    "        ctrl_qubit = exponent[exp]\n",
    "        for _ in range(2**(exp)):\n",
    "            cudaq.control(modular_mult_5_21, ctrl_qubit, work)"
   ]
  },
  {
   "cell_type": "code",
   "execution_count": 9,
   "id": "ed5ec86f",
   "metadata": {},
   "outputs": [
    {
     "name": "stdout",
     "output_type": "stream",
     "text": [
      "     ╭───╮╭───╮      \n",
      "q0 : ┤ x ├┤ x ├─╳──╳─\n",
      "     ╰───╯╰───╯ │  │ \n",
      "q1 : ───────────┼──┼─\n",
      "     ╭───╮      │  │ \n",
      "q2 : ┤ x ├──────┼──╳─\n",
      "     ╰───╯      │    \n",
      "q3 : ───────────┼────\n",
      "     ╭───╮      │    \n",
      "q4 : ┤ x ├──────╳────\n",
      "     ╰───╯           \n",
      "\n",
      "Measurement results from sampling: { 10100:200 }\n",
      "\n",
      "For x = 1, 5^x mod 21 = 5\n",
      "For x = 1, the computed result of the circuit is 5\n"
     ]
    }
   ],
   "source": [
    "# Demonstrate iterated application of 5y mod 21 where y = 1\n",
    "@cudaq.kernel\n",
    "def demonstrate_mod_exponentiation(iterations: int):\n",
    "    qubits = cudaq.qvector(5)\n",
    "    x(qubits[0]\n",
    "     )  # initalizes the qubits in the state for y = 1 which is |10000>\n",
    "    for _ in range(iterations):\n",
    "        modular_mult_5_21(qubits)\n",
    "\n",
    "\n",
    "shots = 200\n",
    "\n",
    "# The iterations variable determines the exponent in 5^x mod 21.\n",
    "# Change this value to verify that the demonstrate_mod_exponentiation\n",
    "# kernel carries out the desired calculation.\n",
    "iterations = 1\n",
    "\n",
    "print(cudaq.draw(demonstrate_mod_exponentiation, iterations))\n",
    "\n",
    "results = cudaq.sample(demonstrate_mod_exponentiation,\n",
    "                       iterations,\n",
    "                       shots_count=shots)\n",
    "\n",
    "print(\"Measurement results from sampling:\", results)\n",
    "\n",
    "# Reverse the order of the most probable measured bit string\n",
    "# and convert the binary string to an integer\n",
    "integer_result = int(results.most_probable()[::-1], 2)\n",
    "\n",
    "print(\"For x = {}, 5^x mod 21 = {}\".format(iterations, (5**iterations) % 21))\n",
    "print(\"For x = {}, the computed result of the circuit is {}\".format(\n",
    "    iterations, integer_result))"
   ]
  },
  {
   "cell_type": "code",
   "execution_count": null,
   "id": "37568865",
   "metadata": {},
   "outputs": [],
   "source": []
  }
 ],
 "metadata": {
  "kernelspec": {
   "display_name": "cudaq",
   "language": "python",
   "name": "python3"
  },
  "language_info": {
   "codemirror_mode": {
    "name": "ipython",
    "version": 3
   },
   "file_extension": ".py",
   "mimetype": "text/x-python",
   "name": "python",
   "nbconvert_exporter": "python",
   "pygments_lexer": "ipython3",
   "version": "3.10.14"
  }
 },
 "nbformat": 4,
 "nbformat_minor": 5
}
